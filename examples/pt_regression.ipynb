{
 "cells": [
  {
   "cell_type": "code",
   "execution_count": 1,
   "id": "a89aad72-11e5-4680-8081-a06e94ef5eee",
   "metadata": {},
   "outputs": [],
   "source": [
    "import torch\n",
    "from torch.autograd import Variable"
   ]
  },
  {
   "cell_type": "code",
   "execution_count": 2,
   "id": "5d2f9c10-a0db-47a6-a7b2-e079d0ff037f",
   "metadata": {},
   "outputs": [
    {
     "data": {
      "text/plain": [
       "device(type='cuda', index=0)"
      ]
     },
     "execution_count": 2,
     "metadata": {},
     "output_type": "execute_result"
    }
   ],
   "source": [
    "device = torch.device(\"cuda:0\" if torch.cuda.is_available() else \"cpu\")\n",
    "device"
   ]
  },
  {
   "cell_type": "code",
   "execution_count": 3,
   "id": "f45d749a-1055-44da-b56e-2e1c55ecc11d",
   "metadata": {},
   "outputs": [],
   "source": [
    "x_data = Variable(torch.Tensor([[1.0], [2.0], [3.0]])).to(device)\n",
    "y_data = Variable(torch.Tensor([[2.0], [4.0], [6.0]])).to(device)"
   ]
  },
  {
   "cell_type": "code",
   "execution_count": 4,
   "id": "34bcb0fc-dfd4-4868-a088-cca0149509e2",
   "metadata": {},
   "outputs": [
    {
     "data": {
      "text/plain": [
       "(tensor([[1.],\n",
       "         [2.],\n",
       "         [3.]], device='cuda:0'),\n",
       " tensor([[2.],\n",
       "         [4.],\n",
       "         [6.]], device='cuda:0'))"
      ]
     },
     "execution_count": 4,
     "metadata": {},
     "output_type": "execute_result"
    }
   ],
   "source": [
    "x_data,y_data"
   ]
  },
  {
   "cell_type": "code",
   "execution_count": 5,
   "id": "8ba731a3-abd0-4a92-a434-e2b268c423ee",
   "metadata": {},
   "outputs": [],
   "source": [
    "class LinearRegressionModel(torch.nn.Module): \n",
    "    def __init__(self):\n",
    "        super(LinearRegressionModel, self).__init__()\n",
    "        self.linear = torch.nn.Linear(1, 1)  # One in and one out \n",
    "    def forward(self, x):\n",
    "        y_pred = self.linear(x)\n",
    "        return y_pred"
   ]
  },
  {
   "cell_type": "code",
   "execution_count": 6,
   "id": "93058688-e5db-4cdc-a494-8b80cc42b2b8",
   "metadata": {},
   "outputs": [
    {
     "name": "stdout",
     "output_type": "stream",
     "text": [
      "LinearRegressionModel(\n",
      "  (linear): Linear(in_features=1, out_features=1, bias=True)\n",
      ")\n"
     ]
    }
   ],
   "source": [
    "our_model = LinearRegressionModel()\n",
    "our_model.to(device)\n",
    "print(our_model)"
   ]
  },
  {
   "cell_type": "code",
   "execution_count": 7,
   "id": "d42634d1-218d-453c-b7ef-d1517c6ce5d3",
   "metadata": {},
   "outputs": [],
   "source": [
    "criterion = torch.nn.MSELoss()\n",
    "optimizer = torch.optim.SGD(our_model.parameters(),  lr = 0.01)"
   ]
  },
  {
   "cell_type": "code",
   "execution_count": 8,
   "id": "998d3763-5165-41f0-863e-39b769e055f4",
   "metadata": {},
   "outputs": [
    {
     "name": "stdout",
     "output_type": "stream",
     "text": [
      "epoch 0, loss 10.381362915039062\n",
      "epoch 100, loss 0.014120868407189846\n",
      "epoch 200, loss 0.008725810796022415\n",
      "epoch 300, loss 0.005392034538090229\n",
      "epoch 400, loss 0.003331931075081229\n",
      "epoch 500, loss 0.0020589332561939955\n",
      "epoch 600, loss 0.0012723091058433056\n",
      "epoch 700, loss 0.0007861863123252988\n",
      "epoch 800, loss 0.00048581507871858776\n",
      "epoch 900, loss 0.0003002097364515066\n"
     ]
    }
   ],
   "source": [
    "for epoch in range(1000):\n",
    " \n",
    "    # Forward pass: Compute predicted y by passing \n",
    "    # x to the model\n",
    "    pred_y = our_model(x_data)\n",
    " \n",
    "    # Compute and print loss\n",
    "    loss = criterion(pred_y, y_data)\n",
    " \n",
    "    # Zero gradients, perform a backward pass, \n",
    "    # and update the weights.\n",
    "    optimizer.zero_grad()\n",
    "    loss.backward()\n",
    "    optimizer.step()\n",
    "    \n",
    "    if (epoch%100) ==0:\n",
    "        print('epoch {}, loss {}'.format(epoch, loss.item()))"
   ]
  },
  {
   "cell_type": "code",
   "execution_count": 9,
   "id": "9f304f1c-2992-4268-89be-609471b3218f",
   "metadata": {},
   "outputs": [
    {
     "name": "stdout",
     "output_type": "stream",
     "text": [
      "predict (after training) 4 8.027315139770508\n"
     ]
    }
   ],
   "source": [
    "new_var = Variable(torch.Tensor([[4.0]])).to(device)\n",
    "pred_y = our_model(new_var)\n",
    "print(\"predict (after training)\", 4, our_model(new_var).item())"
   ]
  },
  {
   "cell_type": "code",
   "execution_count": 10,
   "id": "18bce8a8-cddc-42fb-8edd-3300de318b8d",
   "metadata": {},
   "outputs": [
    {
     "data": {
      "text/plain": [
       "tensor([[4.]], device='cuda:0')"
      ]
     },
     "execution_count": 10,
     "metadata": {},
     "output_type": "execute_result"
    }
   ],
   "source": [
    "new_var"
   ]
  },
  {
   "cell_type": "code",
   "execution_count": 11,
   "id": "da1a0b09-d650-43fe-b6db-d6c139b7ddb6",
   "metadata": {},
   "outputs": [
    {
     "data": {
      "text/plain": [
       "tensor([[8.0273]], device='cuda:0', grad_fn=<AddmmBackward0>)"
      ]
     },
     "execution_count": 11,
     "metadata": {},
     "output_type": "execute_result"
    }
   ],
   "source": [
    "pred_y "
   ]
  },
  {
   "cell_type": "code",
   "execution_count": null,
   "id": "f29f2731-87e3-44d3-b939-b7333d40ba5d",
   "metadata": {},
   "outputs": [],
   "source": []
  }
 ],
 "metadata": {
  "kernelspec": {
   "display_name": "Python 3 (ipykernel)",
   "language": "python",
   "name": "python3"
  },
  "language_info": {
   "codemirror_mode": {
    "name": "ipython",
    "version": 3
   },
   "file_extension": ".py",
   "mimetype": "text/x-python",
   "name": "python",
   "nbconvert_exporter": "python",
   "pygments_lexer": "ipython3",
   "version": "3.10.13"
  }
 },
 "nbformat": 4,
 "nbformat_minor": 5
}
