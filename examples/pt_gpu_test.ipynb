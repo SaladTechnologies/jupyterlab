{
 "cells": [
  {
   "cell_type": "code",
   "execution_count": 1,
   "id": "e2319da3-13de-43e7-8fa5-2392c92e7133",
   "metadata": {},
   "outputs": [],
   "source": [
    "import sys\n",
    "import torch\n",
    "import torch.nn as nn\n",
    "import torchvision\n",
    "import time"
   ]
  },
  {
   "cell_type": "code",
   "execution_count": 2,
   "id": "baa41832-6532-4474-b2de-065df978b954",
   "metadata": {},
   "outputs": [
    {
     "name": "stdout",
     "output_type": "stream",
     "text": [
      "Pythron Version: 3.10.13 (main, Sep 11 2023, 13:44:35) [GCC 11.2.0]\n",
      "PyTorch: 2.1.0\n",
      "CUDA Version: 11.8\n",
      "cuDNN Version: 8700\n"
     ]
    }
   ],
   "source": [
    "print(\"Pythron Version:\", sys.version)  \n",
    "print(\"PyTorch:\", torch.__version__)\n",
    "print(\"CUDA Version:\", torch.version.cuda)\n",
    "print(\"cuDNN Version:\", torch.backends.cudnn.version())"
   ]
  },
  {
   "cell_type": "code",
   "execution_count": 3,
   "id": "781b8073-9af6-433e-830f-2c21d01c8224",
   "metadata": {},
   "outputs": [
    {
     "name": "stdout",
     "output_type": "stream",
     "text": [
      "NVIDIA RTX A2000 Laptop GPU\n",
      "cuda:0\n"
     ]
    }
   ],
   "source": [
    "print(torch.cuda.get_device_name(0))\n",
    "device = torch.device(\"cuda:0\" if torch.cuda.is_available() else \"cpu\")\n",
    "print(device)"
   ]
  },
  {
   "cell_type": "code",
   "execution_count": 11,
   "id": "be047cd2-7e28-47d6-a37f-ab56747995e1",
   "metadata": {},
   "outputs": [],
   "source": [
    "a1 = torch.randn((10000, 10000))\n",
    "b1 = torch.randn((10000, 10000))"
   ]
  },
  {
   "cell_type": "code",
   "execution_count": 12,
   "id": "7f56f82a-4b52-4e8a-b5af-0b22db1c69b8",
   "metadata": {},
   "outputs": [],
   "source": [
    "a2 = a1.cuda()\n",
    "b2 = b1.cuda()"
   ]
  },
  {
   "cell_type": "code",
   "execution_count": 13,
   "id": "2cce00e7-644c-46a8-b93b-8ef533cf492f",
   "metadata": {},
   "outputs": [
    {
     "data": {
      "text/plain": [
       "(tensor([[ 0.6120,  0.3415, -1.0164,  ...,  0.9173, -0.8555, -1.7165],\n",
       "         [-0.6374, -0.2575, -0.2473,  ..., -0.4198, -0.2226, -0.4283],\n",
       "         [-0.7787,  0.6530, -0.8968,  ...,  1.0032, -0.3905, -1.2869],\n",
       "         ...,\n",
       "         [ 0.5641,  1.5608,  0.3904,  ...,  1.4540, -0.4610, -0.1755],\n",
       "         [ 0.3569, -0.3678,  0.1679,  ..., -1.0263,  0.4430, -0.2238],\n",
       "         [-0.2865,  0.1662,  0.3829,  ...,  1.0992,  0.7287,  0.5191]]),\n",
       " tensor([[ 0.6120,  0.3415, -1.0164,  ...,  0.9173, -0.8555, -1.7165],\n",
       "         [-0.6374, -0.2575, -0.2473,  ..., -0.4198, -0.2226, -0.4283],\n",
       "         [-0.7787,  0.6530, -0.8968,  ...,  1.0032, -0.3905, -1.2869],\n",
       "         ...,\n",
       "         [ 0.5641,  1.5608,  0.3904,  ...,  1.4540, -0.4610, -0.1755],\n",
       "         [ 0.3569, -0.3678,  0.1679,  ..., -1.0263,  0.4430, -0.2238],\n",
       "         [-0.2865,  0.1662,  0.3829,  ...,  1.0992,  0.7287,  0.5191]],\n",
       "        device='cuda:0'))"
      ]
     },
     "execution_count": 13,
     "metadata": {},
     "output_type": "execute_result"
    }
   ],
   "source": [
    "a1,a2"
   ]
  },
  {
   "cell_type": "code",
   "execution_count": 18,
   "id": "89361cb5-a6d0-48f6-b30c-3705b2605596",
   "metadata": {},
   "outputs": [
    {
     "name": "stdout",
     "output_type": "stream",
     "text": [
      "Time by CPU 3.066342353820801\n"
     ]
    }
   ],
   "source": [
    "start = time.time()\n",
    "result1 = a1 @ b1\n",
    "end = time.time()\n",
    "print(\"Time by CPU \" + str(end - start))"
   ]
  },
  {
   "cell_type": "code",
   "execution_count": 17,
   "id": "d266165d-ec49-487a-84a9-cf58a4e6d4cd",
   "metadata": {},
   "outputs": [
    {
     "name": "stdout",
     "output_type": "stream",
     "text": [
      "Time by GPU 0.0006620883941650391\n"
     ]
    }
   ],
   "source": [
    "start = time.time()\n",
    "result2 = a2 @ b2\n",
    "end = time.time()\n",
    "print(\"Time by GPU \" + str(end - start))"
   ]
  },
  {
   "cell_type": "code",
   "execution_count": null,
   "id": "cb1fed94-7eee-41ee-8129-7993fbca3e23",
   "metadata": {},
   "outputs": [],
   "source": []
  }
 ],
 "metadata": {
  "kernelspec": {
   "display_name": "Python 3 (ipykernel)",
   "language": "python",
   "name": "python3"
  },
  "language_info": {
   "codemirror_mode": {
    "name": "ipython",
    "version": 3
   },
   "file_extension": ".py",
   "mimetype": "text/x-python",
   "name": "python",
   "nbconvert_exporter": "python",
   "pygments_lexer": "ipython3",
   "version": "3.10.13"
  }
 },
 "nbformat": 4,
 "nbformat_minor": 5
}
