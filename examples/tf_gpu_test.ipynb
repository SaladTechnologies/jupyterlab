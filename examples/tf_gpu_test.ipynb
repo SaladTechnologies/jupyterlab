{
 "cells": [
  {
   "cell_type": "code",
   "execution_count": 1,
   "id": "e967ea84-2db4-4ebe-9f3b-1d861a43aba9",
   "metadata": {},
   "outputs": [],
   "source": [
    "import os\n",
    "os.environ['TF_CPP_MIN_LOG_LEVEL'] = '2'"
   ]
  },
  {
   "cell_type": "code",
   "execution_count": 2,
   "id": "daf2c05e-08bf-4286-acb8-75a0cbc58f9f",
   "metadata": {},
   "outputs": [],
   "source": [
    "import sys\n",
    "import tensorflow as tf"
   ]
  },
  {
   "cell_type": "code",
   "execution_count": 3,
   "id": "9b8ee713-9d58-4d76-bd33-28f2e906344b",
   "metadata": {},
   "outputs": [
    {
     "name": "stdout",
     "output_type": "stream",
     "text": [
      "Pythron Version: 3.8.10 (default, May 26 2023, 14:05:08) \n",
      "[GCC 9.4.0]\n",
      "TensorFlow Version: 2.13.0\n",
      "CUDA Version: 11.8\n",
      "cuDNN Version: 8\n"
     ]
    }
   ],
   "source": [
    "print(\"Pythron Version:\",sys.version)  \n",
    "print(\"TensorFlow Version:\",tf.__version__) \n",
    "print(\"CUDA Version:\", tf.sysconfig.get_build_info()['cuda_version'])\n",
    "print(\"cuDNN Version:\", tf.sysconfig.get_build_info()['cudnn_version'])"
   ]
  },
  {
   "cell_type": "code",
   "execution_count": 4,
   "id": "58b646c4-2731-45a8-bfc6-e2d0cfd6247b",
   "metadata": {},
   "outputs": [
    {
     "data": {
      "text/plain": [
       "[PhysicalDevice(name='/physical_device:CPU:0', device_type='CPU'),\n",
       " PhysicalDevice(name='/physical_device:GPU:0', device_type='GPU')]"
      ]
     },
     "execution_count": 4,
     "metadata": {},
     "output_type": "execute_result"
    }
   ],
   "source": [
    "tf.config.list_physical_devices()  # list all devices, including CPU and GPU"
   ]
  },
  {
   "cell_type": "code",
   "execution_count": 5,
   "id": "1d08dd89-e9f5-43ed-ab60-b2823e80dc10",
   "metadata": {},
   "outputs": [
    {
     "data": {
      "text/plain": [
       "'/device:GPU:0'"
      ]
     },
     "execution_count": 5,
     "metadata": {},
     "output_type": "execute_result"
    }
   ],
   "source": [
    "tf.test.gpu_device_name() # Get all GPU deivce names"
   ]
  },
  {
   "cell_type": "code",
   "execution_count": 6,
   "id": "d8267359-c8e7-45d8-9db3-2d6a6e29cb8c",
   "metadata": {},
   "outputs": [
    {
     "name": "stdout",
     "output_type": "stream",
     "text": [
      "(8, 6) NVIDIA RTX A2000 Laptop GPU\n"
     ]
    }
   ],
   "source": [
    "physical_devices = tf.config.list_physical_devices('GPU') # List all GPU devices\n",
    "details = tf.config.experimental.get_device_details( physical_devices[0] ) # Get the details of No 1 GPU device\n",
    "print( details['compute_capability'],details['device_name'] ) "
   ]
  },
  {
   "cell_type": "code",
   "execution_count": 7,
   "id": "ec696292-10d2-4073-9dfd-ecf0fa53cc89",
   "metadata": {},
   "outputs": [
    {
     "name": "stdout",
     "output_type": "stream",
     "text": [
      "Executing op _EagerConst in device /job:localhost/replica:0/task:0/device:GPU:0\n",
      "Executing op _EagerConst in device /job:localhost/replica:0/task:0/device:GPU:0\n",
      "Executing op MatMul in device /job:localhost/replica:0/task:0/device:GPU:0\n",
      "tf.Tensor(\n",
      "[[22. 28.]\n",
      " [49. 64.]], shape=(2, 2), dtype=float32)\n"
     ]
    }
   ],
   "source": [
    " # to find out which devices the operations and tensors are assigned to\n",
    "tf.debugging.set_log_device_placement(True)\n",
    "\n",
    "# Create some tensors\n",
    "a = tf.constant([[1.0, 2.0, 3.0], [4.0, 5.0, 6.0]])\n",
    "b = tf.constant([[1.0, 2.0], [3.0, 4.0], [5.0, 6.0]])\n",
    "c = tf.matmul(a, b)\n",
    "\n",
    "print(c)"
   ]
  },
  {
   "cell_type": "code",
   "execution_count": null,
   "id": "37620eb9-5c97-42a2-91fb-ef24383fd4fe",
   "metadata": {},
   "outputs": [],
   "source": []
  }
 ],
 "metadata": {
  "kernelspec": {
   "display_name": "Python 3 (ipykernel)",
   "language": "python",
   "name": "python3"
  },
  "language_info": {
   "codemirror_mode": {
    "name": "ipython",
    "version": 3
   },
   "file_extension": ".py",
   "mimetype": "text/x-python",
   "name": "python",
   "nbconvert_exporter": "python",
   "pygments_lexer": "ipython3",
   "version": "3.10.13"
  }
 },
 "nbformat": 4,
 "nbformat_minor": 5
}
