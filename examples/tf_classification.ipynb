{
 "cells": [
  {
   "cell_type": "code",
   "execution_count": 1,
   "id": "36a04fac-ccbe-4761-8f3f-7876108b33c9",
   "metadata": {},
   "outputs": [],
   "source": [
    "import os\n",
    "os.environ['TF_CPP_MIN_LOG_LEVEL'] = '2'\n",
    "\n",
    "import tensorflow as tf\n",
    "from tensorflow.keras import layers\n",
    "from matplotlib import pyplot\n",
    "import numpy as np\n",
    "import time"
   ]
  },
  {
   "cell_type": "code",
   "execution_count": 2,
   "id": "cfaa85a2-896d-4a53-af66-673ed8d0d189",
   "metadata": {},
   "outputs": [
    {
     "name": "stdout",
     "output_type": "stream",
     "text": [
      "Downloading data from https://storage.googleapis.com/tensorflow/tf-keras-datasets/mnist.npz\n",
      "11490434/11490434 [==============================] - 4s 0us/step\n"
     ]
    }
   ],
   "source": [
    "(x_train, y_train), (x_valid, y_valid) = tf.keras.datasets.mnist.load_data()"
   ]
  },
  {
   "cell_type": "code",
   "execution_count": 3,
   "id": "bc676cba-7e6c-466b-a3eb-a626514ed847",
   "metadata": {},
   "outputs": [
    {
     "name": "stdout",
     "output_type": "stream",
     "text": [
      "(60000, 28, 28) (60000,)\n",
      "(10000, 28, 28) (10000,)\n"
     ]
    }
   ],
   "source": [
    "print(x_train.shape,y_train.shape)\n",
    "print(x_valid.shape,y_valid.shape)"
   ]
  },
  {
   "cell_type": "code",
   "execution_count": 4,
   "id": "db3b49b6-6810-4fad-8e6f-3cd1c0ed1bfb",
   "metadata": {},
   "outputs": [
    {
     "data": {
      "text/plain": [
       "<matplotlib.image.AxesImage at 0x7faee36b33d0>"
      ]
     },
     "execution_count": 4,
     "metadata": {},
     "output_type": "execute_result"
    },
    {
     "data": {
      "image/png": "[encoded data removed]",
      "text/plain": [
       "<Figure size 640x480 with 1 Axes>"
      ]
     },
     "metadata": {},
     "output_type": "display_data"
    }
   ],
   "source": [
    "pyplot.imshow(x_train[0].reshape((28, 28)))"
   ]
  },
  {
   "cell_type": "code",
   "execution_count": 5,
   "id": "a631cb65-f05d-4d8a-9dcb-025b303ed668",
   "metadata": {},
   "outputs": [],
   "source": [
    "model = tf.keras.models.Sequential([\n",
    "  tf.keras.layers.Flatten(input_shape=(28, 28)),\n",
    "  tf.keras.layers.Dense(32, activation='relu'),          # (784 + 1) x 32 = 25120\n",
    "  tf.keras.layers.Dense(32, activation='relu'),          # (32  + 1) x 32 = 1056\n",
    "  tf.keras.layers.Dense(10, activation='softmax')        # (32  + 1) x 10 = 330\n",
    "])"
   ]
  },
  {
   "cell_type": "code",
   "execution_count": 6,
   "id": "29789229-45c0-462f-8108-11a8202ff346",
   "metadata": {},
   "outputs": [
    {
     "name": "stdout",
     "output_type": "stream",
     "text": [
      "Model: \"sequential\"\n",
      "_________________________________________________________________\n",
      " Layer (type)                Output Shape              Param #   \n",
      "=================================================================\n",
      " flatten (Flatten)           (None, 784)               0         \n",
      "                                                                 \n",
      " dense (Dense)               (None, 32)                25120     \n",
      "                                                                 \n",
      " dense_1 (Dense)             (None, 32)                1056      \n",
      "                                                                 \n",
      " dense_2 (Dense)             (None, 10)                330       \n",
      "                                                                 \n",
      "=================================================================\n",
      "Total params: 26506 (103.54 KB)\n",
      "Trainable params: 26506 (103.54 KB)\n",
      "Non-trainable params: 0 (0.00 Byte)\n",
      "_________________________________________________________________\n"
     ]
    }
   ],
   "source": [
    "model.summary()"
   ]
  },
  {
   "cell_type": "code",
   "execution_count": 7,
   "id": "81dcb996-654d-44f9-a0fb-0f4aa752f660",
   "metadata": {},
   "outputs": [],
   "source": [
    "model.compile(optimizer=tf.keras.optimizers.Adam(0.001),\n",
    "             loss=tf.losses.SparseCategoricalCrossentropy(),\n",
    "             metrics=[tf.keras.metrics.SparseCategoricalAccuracy()])"
   ]
  },
  {
   "cell_type": "code",
   "execution_count": 8,
   "id": "2db4c28a-dfb7-4900-b82e-89f9a85d09a5",
   "metadata": {},
   "outputs": [
    {
     "name": "stdout",
     "output_type": "stream",
     "text": [
      "Epoch 1/20\n",
      "938/938 [==============================] - 6s 4ms/step - loss: 1.8341 - sparse_categorical_accuracy: 0.6370 - val_loss: 0.6795 - val_sparse_categorical_accuracy: 0.7943\n",
      "Epoch 2/20\n",
      "938/938 [==============================] - 4s 4ms/step - loss: 0.5462 - sparse_categorical_accuracy: 0.8497 - val_loss: 0.4605 - val_sparse_categorical_accuracy: 0.8822\n",
      "Epoch 3/20\n",
      "938/938 [==============================] - 5s 5ms/step - loss: 0.4075 - sparse_categorical_accuracy: 0.8903 - val_loss: 0.3741 - val_sparse_categorical_accuracy: 0.9004\n",
      "Epoch 4/20\n",
      "938/938 [==============================] - 5s 5ms/step - loss: 0.3510 - sparse_categorical_accuracy: 0.9067 - val_loss: 0.3431 - val_sparse_categorical_accuracy: 0.9145\n",
      "Epoch 5/20\n",
      "938/938 [==============================] - 5s 5ms/step - loss: 0.3239 - sparse_categorical_accuracy: 0.9149 - val_loss: 0.3403 - val_sparse_categorical_accuracy: 0.9138\n",
      "Epoch 6/20\n",
      "938/938 [==============================] - 5s 5ms/step - loss: 0.2994 - sparse_categorical_accuracy: 0.9197 - val_loss: 0.3327 - val_sparse_categorical_accuracy: 0.9161\n",
      "Epoch 7/20\n",
      "938/938 [==============================] - 5s 5ms/step - loss: 0.2780 - sparse_categorical_accuracy: 0.9247 - val_loss: 0.3263 - val_sparse_categorical_accuracy: 0.9214\n",
      "Epoch 8/20\n",
      "938/938 [==============================] - 5s 5ms/step - loss: 0.2647 - sparse_categorical_accuracy: 0.9273 - val_loss: 0.2691 - val_sparse_categorical_accuracy: 0.9272\n",
      "Epoch 9/20\n",
      "938/938 [==============================] - 4s 5ms/step - loss: 0.2478 - sparse_categorical_accuracy: 0.9309 - val_loss: 0.2729 - val_sparse_categorical_accuracy: 0.9279\n",
      "Epoch 10/20\n",
      "938/938 [==============================] - 5s 5ms/step - loss: 0.2322 - sparse_categorical_accuracy: 0.9362 - val_loss: 0.2622 - val_sparse_categorical_accuracy: 0.9299\n",
      "Epoch 11/20\n",
      "938/938 [==============================] - 4s 5ms/step - loss: 0.2185 - sparse_categorical_accuracy: 0.9374 - val_loss: 0.2446 - val_sparse_categorical_accuracy: 0.9361\n",
      "Epoch 12/20\n",
      "938/938 [==============================] - 5s 5ms/step - loss: 0.2076 - sparse_categorical_accuracy: 0.9411 - val_loss: 0.2493 - val_sparse_categorical_accuracy: 0.9320\n",
      "Epoch 13/20\n",
      "938/938 [==============================] - 5s 5ms/step - loss: 0.2024 - sparse_categorical_accuracy: 0.9419 - val_loss: 0.2304 - val_sparse_categorical_accuracy: 0.9383\n",
      "Epoch 14/20\n",
      "938/938 [==============================] - 5s 5ms/step - loss: 0.1886 - sparse_categorical_accuracy: 0.9455 - val_loss: 0.2232 - val_sparse_categorical_accuracy: 0.9379\n",
      "Epoch 15/20\n",
      "938/938 [==============================] - 5s 5ms/step - loss: 0.1823 - sparse_categorical_accuracy: 0.9461 - val_loss: 0.2261 - val_sparse_categorical_accuracy: 0.9387\n",
      "Epoch 16/20\n",
      "938/938 [==============================] - 5s 5ms/step - loss: 0.1761 - sparse_categorical_accuracy: 0.9480 - val_loss: 0.2220 - val_sparse_categorical_accuracy: 0.9413\n",
      "Epoch 17/20\n",
      "938/938 [==============================] - 4s 5ms/step - loss: 0.1676 - sparse_categorical_accuracy: 0.9506 - val_loss: 0.2345 - val_sparse_categorical_accuracy: 0.9394\n",
      "Epoch 18/20\n",
      "938/938 [==============================] - 5s 5ms/step - loss: 0.1632 - sparse_categorical_accuracy: 0.9514 - val_loss: 0.2255 - val_sparse_categorical_accuracy: 0.9449\n",
      "Epoch 19/20\n",
      "938/938 [==============================] - 4s 4ms/step - loss: 0.1566 - sparse_categorical_accuracy: 0.9525 - val_loss: 0.2194 - val_sparse_categorical_accuracy: 0.9403\n",
      "Epoch 20/20\n",
      "938/938 [==============================] - 4s 5ms/step - loss: 0.1539 - sparse_categorical_accuracy: 0.9541 - val_loss: 0.2169 - val_sparse_categorical_accuracy: 0.9451\n",
      "Completed and took 94.186 s\n"
     ]
    }
   ],
   "source": [
    "start_time = time.time()\n",
    "model.fit(x_train, y_train, epochs=20, batch_size=64,validation_data=(x_valid, y_valid))\n",
    "end_time = time.time()\n",
    "print(\"Completed and took {:.3f} s\".format(end_time - start_time))"
   ]
  },
  {
   "cell_type": "code",
   "execution_count": 10,
   "id": "c90adf86-f2f6-4187-9cdc-072830f5ff2b",
   "metadata": {},
   "outputs": [
    {
     "name": "stdout",
     "output_type": "stream",
     "text": [
      "313/313 [==============================] - 0s 903us/step\n",
      "----------> the probability:  [2.9731294e-05 9.8474547e-03 6.0835283e-04 4.1058781e-03 4.8453918e-01\n",
      " 2.5718571e-03 3.2320109e-05 1.2113544e-03 1.3533726e-02 4.8352018e-01]\n",
      "the prediction:  4\n",
      "the answer:  9\n",
      "----------> the probability:  [4.8894339e-08 9.8952150e-05 4.3471232e-02 8.0539346e-01 2.4729935e-10\n",
      " 2.8485322e-06 1.9335196e-16 1.5030967e-01 7.2374538e-04 1.1218142e-07]\n",
      "the prediction:  3\n",
      "the answer:  7\n",
      "----------> the probability:  [5.1685841e-08 4.4315049e-05 3.9315550e-03 3.6706388e-05 6.0901487e-01\n",
      " 1.7344105e-04 1.3035566e-08 3.8629562e-01 3.1087864e-06 5.0027604e-04]\n",
      "the prediction:  4\n",
      "the answer:  7\n",
      "----------> the probability:  [0.02666862 0.03081993 0.02901032 0.0997148  0.12228557 0.04676684\n",
      " 0.00128882 0.09127853 0.1998368  0.35232973]\n",
      "the prediction:  9\n",
      "the answer:  2\n"
     ]
    },
    {
     "data": {
      "image/png": "[encoded data removed]",
      "text/plain": [
       "<Figure size 640x480 with 4 Axes>"
      ]
     },
     "metadata": {},
     "output_type": "display_data"
    }
   ],
   "source": [
    "predictions = model.predict(x_valid) # batch prediction\n",
    "index = 1\n",
    "\n",
    "for i in range(1000):\n",
    "    pValue = np.argmax(predictions[i]) # Predicted values\n",
    "    rValue = y_valid[i] # Actual values\n",
    "    if pValue != rValue:  # error\n",
    "        print(\"----------> the probability: \",predictions[i])\n",
    "        print(\"the prediction: \",np.argmax(predictions[i]))\n",
    "        print(\"the answer: \",y_valid[i])\n",
    "        pyplot.subplot(2,2,index)\n",
    "        pyplot.imshow(x_valid[i].reshape((28, 28)))\n",
    "        index = index +1\n",
    "        if index > 4:\n",
    "            break"
   ]
  },
  {
   "cell_type": "code",
   "execution_count": 74,
   "id": "65bb1e98-d954-434b-8fde-7e5a25073382",
   "metadata": {},
   "outputs": [
    {
     "data": {
      "text/plain": [
       "10000"
      ]
     },
     "execution_count": 74,
     "metadata": {},
     "output_type": "execute_result"
    }
   ],
   "source": [
    "len(predictions)"
   ]
  },
  {
   "cell_type": "code",
   "execution_count": null,
   "id": "28c486b9-f9cc-4030-aff4-ebbd3cc10b7f",
   "metadata": {},
   "outputs": [],
   "source": []
  }
 ],
 "metadata": {
  "kernelspec": {
   "display_name": "Python 3 (ipykernel)",
   "language": "python",
   "name": "python3"
  },
  "language_info": {
   "codemirror_mode": {
    "name": "ipython",
    "version": 3
   },
   "file_extension": ".py",
   "mimetype": "text/x-python",
   "name": "python",
   "nbconvert_exporter": "python",
   "pygments_lexer": "ipython3",
   "version": "3.10.13"
  }
 },
 "nbformat": 4,
 "nbformat_minor": 5
}
