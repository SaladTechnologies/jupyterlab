{
 "cells": [
  {
   "cell_type": "code",
   "execution_count": 5,
   "id": "9a4744ac-e3e5-4e49-9cbb-197124e02b8f",
   "metadata": {},
   "outputs": [],
   "source": [
    "from transformers import pipeline"
   ]
  },
  {
   "cell_type": "code",
   "execution_count": null,
   "id": "a3940840-9240-4cd8-a0f5-27d1eb4cbe60",
   "metadata": {},
   "outputs": [],
   "source": [
    "classifier = pipeline(\"sentiment-analysis\") "
   ]
  },
  {
   "cell_type": "code",
   "execution_count": 7,
   "id": "2b552b57-7dd2-4d0f-b5a6-c811151453e8",
   "metadata": {},
   "outputs": [],
   "source": [
    "temp=classifier(\"I've been waiting for SaladCloud my whole life.\")"
   ]
  },
  {
   "cell_type": "code",
   "execution_count": 8,
   "id": "9510888b-2457-4a73-9be7-d3682ce37d20",
   "metadata": {},
   "outputs": [
    {
     "data": {
      "text/plain": [
       "[{'label': 'POSITIVE', 'score': 0.9957072138786316}]"
      ]
     },
     "execution_count": 8,
     "metadata": {},
     "output_type": "execute_result"
    }
   ],
   "source": [
    "temp"
   ]
  },
  {
   "cell_type": "code",
   "execution_count": null,
   "id": "90569485-1fa5-485c-a758-40e99d152f12",
   "metadata": {},
   "outputs": [],
   "source": []
  }
 ],
 "metadata": {
  "kernelspec": {
   "display_name": "Python 3 (ipykernel)",
   "language": "python",
   "name": "python3"
  },
  "language_info": {
   "codemirror_mode": {
    "name": "ipython",
    "version": 3
   },
   "file_extension": ".py",
   "mimetype": "text/x-python",
   "name": "python",
   "nbconvert_exporter": "python",
   "pygments_lexer": "ipython3",
   "version": "3.10.13"
  }
 },
 "nbformat": 4,
 "nbformat_minor": 5
}
