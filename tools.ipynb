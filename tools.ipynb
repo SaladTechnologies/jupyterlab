{
 "cells": [
  {
   "cell_type": "code",
   "execution_count": null,
   "id": "389217c8-0d2a-4b60-a9fa-5def87374404",
   "metadata": {},
   "outputs": [],
   "source": [
    "# The current working directory\n",
    "!echo $target_dir "
   ]
  },
  {
   "cell_type": "code",
   "execution_count": null,
   "id": "420526dc-c7e6-411c-af7f-f1b1a1724f87",
   "metadata": {},
   "outputs": [],
   "source": [
    "# AWS, sync the folder - target_dir from the Jupyterlab to AWS.\n",
    "# The --delete option will delete files that exist in the destionation but not in the source.\n",
    "!aws s3 sync $target_dir s3://$AWS_S3_BUCKET_FOLDER --delete"
   ]
  },
  {
   "cell_type": "code",
   "execution_count": null,
   "id": "08014afd-a9d4-4182-89ab-d77d45686c49",
   "metadata": {},
   "outputs": [],
   "source": [
    "# Azure, sync the folder - target_dir from the Jupyterlab to Azure\n",
    "# The --delete-destination option will delete files that exist in the destionation but not in the source.\n",
    "!azcopy sync $target_dir $AZURE_CONTAINER_URL?$AZURE_BLOB_SAS_TOKEN --recursive=true --delete-destination=true"
   ]
  },
  {
   "cell_type": "code",
   "execution_count": null,
   "id": "7d7679ae-bb83-4254-9225-9bb7c833d077",
   "metadata": {},
   "outputs": [],
   "source": [
    "# GCP, sync the folder - target_dir from the Jupyterlab to GCP\n",
    "# The -d option will delete files that exist in the destionation but not in the source.\n",
    "!gsutil rsync -r -d $target_dir gs://$GOOGLE_BUCKET_FOLDER"
   ]
  },
  {
   "cell_type": "code",
   "execution_count": null,
   "id": "b3ca6cf0-3b1f-4f24-81eb-79b4c5d278ba",
   "metadata": {},
   "outputs": [],
   "source": [
    "# Show the GPU and driver info\n",
    "!nvidia-smi"
   ]
  },
  {
   "cell_type": "code",
   "execution_count": null,
   "id": "11291ec7-ad1c-4ffd-bf70-8bf2e96b0488",
   "metadata": {},
   "outputs": [],
   "source": [
    "# Install additonal dependencies\n",
    "!pip install fastapi"
   ]
  },
  {
   "cell_type": "code",
   "execution_count": null,
   "id": "5a32f5b3-dc9d-40f6-b9cd-a7c540c2614e",
   "metadata": {},
   "outputs": [],
   "source": [
    "# Install additonal dependencies\n",
    "!apt install tree"
   ]
  },
  {
   "cell_type": "code",
   "execution_count": null,
   "id": "5e685024-7219-4aec-aa01-699e71184418",
   "metadata": {},
   "outputs": [],
   "source": []
  }
 ],
 "metadata": {
  "kernelspec": {
   "display_name": "Python 3 (ipykernel)",
   "language": "python",
   "name": "python3"
  },
  "language_info": {
   "codemirror_mode": {
    "name": "ipython",
    "version": 3
   },
   "file_extension": ".py",
   "mimetype": "text/x-python",
   "name": "python",
   "nbconvert_exporter": "python",
   "pygments_lexer": "ipython3",
   "version": "3.10.13"
  }
 },
 "nbformat": 4,
 "nbformat_minor": 5
}
